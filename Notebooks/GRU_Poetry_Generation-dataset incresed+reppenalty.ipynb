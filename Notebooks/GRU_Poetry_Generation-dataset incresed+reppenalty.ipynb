{
  "nbformat": 4,
  "nbformat_minor": 0,
  "metadata": {
    "colab": {
      "provenance": [],
      "gpuType": "T4"
    },
    "kernelspec": {
      "name": "python3",
      "display_name": "Python 3"
    },
    "language_info": {
      "name": "python"
    },
    "accelerator": "GPU"
  },
  "cells": [
    {
      "cell_type": "markdown",
      "source": [
        "## Importing Libraries"
      ],
      "metadata": {
        "id": "vaoRJyatQ3-O"
      }
    },
    {
      "cell_type": "code",
      "execution_count": 37,
      "metadata": {
        "id": "fm0xthDOQuSd"
      },
      "outputs": [],
      "source": [
        "import pandas as pd\n",
        "import numpy as np\n",
        "import torch\n",
        "import torch.nn as nn\n",
        "from tqdm import tqdm\n",
        "from sklearn.model_selection import train_test_split"
      ]
    },
    {
      "cell_type": "markdown",
      "source": [
        "## Loading Dataset"
      ],
      "metadata": {
        "id": "TFIVqXQxS0ll"
      }
    },
    {
      "cell_type": "code",
      "source": [
        "df = pd.read_csv('filtered_ghazals.csv')"
      ],
      "metadata": {
        "id": "HlxFh1GhQ6ze"
      },
      "execution_count": 38,
      "outputs": []
    },
    {
      "cell_type": "code",
      "source": [
        "print(f\"Dataset shape: {df.shape}\")\n",
        "print(\"\\nColumns:\", df.columns.tolist())\n",
        "df.head()"
      ],
      "metadata": {
        "colab": {
          "base_uri": "https://localhost:8080/",
          "height": 258
        },
        "id": "eopDKennRJCN",
        "outputId": "17323101-cf54-4031-c538-7a7e75cd2490"
      },
      "execution_count": 39,
      "outputs": [
        {
          "output_type": "stream",
          "name": "stdout",
          "text": [
            "Dataset shape: (643, 2)\n",
            "\n",
            "Columns: ['Poet', 'Poetry Text']\n"
          ]
        },
        {
          "output_type": "execute_result",
          "data": {
            "text/plain": [
              "      Poet                                        Poetry Text\n",
              "0  Unknown  kahnā ġhalat ġhalat to chhupānā sahīh sahīh qā...\n",
              "1  Unknown  mast nazroñ se allāh bachā.e mah-jamāloñ se al...\n",
              "2  Unknown  phirūñ DhūñDtā mai-kada tauba tauba mujhe āj-k...\n",
              "3  Unknown  sahar qarīb hai tāroñ kā haal kyā hogā ab inti...\n",
              "4  Unknown  merī āñkhoñ ko baḳhshe haiñ aañsū dil ko dāġh-..."
            ],
            "text/html": [
              "\n",
              "  <div id=\"df-09a4678b-ddb0-4e79-9343-d50eed565262\" class=\"colab-df-container\">\n",
              "    <div>\n",
              "<style scoped>\n",
              "    .dataframe tbody tr th:only-of-type {\n",
              "        vertical-align: middle;\n",
              "    }\n",
              "\n",
              "    .dataframe tbody tr th {\n",
              "        vertical-align: top;\n",
              "    }\n",
              "\n",
              "    .dataframe thead th {\n",
              "        text-align: right;\n",
              "    }\n",
              "</style>\n",
              "<table border=\"1\" class=\"dataframe\">\n",
              "  <thead>\n",
              "    <tr style=\"text-align: right;\">\n",
              "      <th></th>\n",
              "      <th>Poet</th>\n",
              "      <th>Poetry Text</th>\n",
              "    </tr>\n",
              "  </thead>\n",
              "  <tbody>\n",
              "    <tr>\n",
              "      <th>0</th>\n",
              "      <td>Unknown</td>\n",
              "      <td>kahnā ġhalat ġhalat to chhupānā sahīh sahīh qā...</td>\n",
              "    </tr>\n",
              "    <tr>\n",
              "      <th>1</th>\n",
              "      <td>Unknown</td>\n",
              "      <td>mast nazroñ se allāh bachā.e mah-jamāloñ se al...</td>\n",
              "    </tr>\n",
              "    <tr>\n",
              "      <th>2</th>\n",
              "      <td>Unknown</td>\n",
              "      <td>phirūñ DhūñDtā mai-kada tauba tauba mujhe āj-k...</td>\n",
              "    </tr>\n",
              "    <tr>\n",
              "      <th>3</th>\n",
              "      <td>Unknown</td>\n",
              "      <td>sahar qarīb hai tāroñ kā haal kyā hogā ab inti...</td>\n",
              "    </tr>\n",
              "    <tr>\n",
              "      <th>4</th>\n",
              "      <td>Unknown</td>\n",
              "      <td>merī āñkhoñ ko baḳhshe haiñ aañsū dil ko dāġh-...</td>\n",
              "    </tr>\n",
              "  </tbody>\n",
              "</table>\n",
              "</div>\n",
              "    <div class=\"colab-df-buttons\">\n",
              "\n",
              "  <div class=\"colab-df-container\">\n",
              "    <button class=\"colab-df-convert\" onclick=\"convertToInteractive('df-09a4678b-ddb0-4e79-9343-d50eed565262')\"\n",
              "            title=\"Convert this dataframe to an interactive table.\"\n",
              "            style=\"display:none;\">\n",
              "\n",
              "  <svg xmlns=\"http://www.w3.org/2000/svg\" height=\"24px\" viewBox=\"0 -960 960 960\">\n",
              "    <path d=\"M120-120v-720h720v720H120Zm60-500h600v-160H180v160Zm220 220h160v-160H400v160Zm0 220h160v-160H400v160ZM180-400h160v-160H180v160Zm440 0h160v-160H620v160ZM180-180h160v-160H180v160Zm440 0h160v-160H620v160Z\"/>\n",
              "  </svg>\n",
              "    </button>\n",
              "\n",
              "  <style>\n",
              "    .colab-df-container {\n",
              "      display:flex;\n",
              "      gap: 12px;\n",
              "    }\n",
              "\n",
              "    .colab-df-convert {\n",
              "      background-color: #E8F0FE;\n",
              "      border: none;\n",
              "      border-radius: 50%;\n",
              "      cursor: pointer;\n",
              "      display: none;\n",
              "      fill: #1967D2;\n",
              "      height: 32px;\n",
              "      padding: 0 0 0 0;\n",
              "      width: 32px;\n",
              "    }\n",
              "\n",
              "    .colab-df-convert:hover {\n",
              "      background-color: #E2EBFA;\n",
              "      box-shadow: 0px 1px 2px rgba(60, 64, 67, 0.3), 0px 1px 3px 1px rgba(60, 64, 67, 0.15);\n",
              "      fill: #174EA6;\n",
              "    }\n",
              "\n",
              "    .colab-df-buttons div {\n",
              "      margin-bottom: 4px;\n",
              "    }\n",
              "\n",
              "    [theme=dark] .colab-df-convert {\n",
              "      background-color: #3B4455;\n",
              "      fill: #D2E3FC;\n",
              "    }\n",
              "\n",
              "    [theme=dark] .colab-df-convert:hover {\n",
              "      background-color: #434B5C;\n",
              "      box-shadow: 0px 1px 3px 1px rgba(0, 0, 0, 0.15);\n",
              "      filter: drop-shadow(0px 1px 2px rgba(0, 0, 0, 0.3));\n",
              "      fill: #FFFFFF;\n",
              "    }\n",
              "  </style>\n",
              "\n",
              "    <script>\n",
              "      const buttonEl =\n",
              "        document.querySelector('#df-09a4678b-ddb0-4e79-9343-d50eed565262 button.colab-df-convert');\n",
              "      buttonEl.style.display =\n",
              "        google.colab.kernel.accessAllowed ? 'block' : 'none';\n",
              "\n",
              "      async function convertToInteractive(key) {\n",
              "        const element = document.querySelector('#df-09a4678b-ddb0-4e79-9343-d50eed565262');\n",
              "        const dataTable =\n",
              "          await google.colab.kernel.invokeFunction('convertToInteractive',\n",
              "                                                    [key], {});\n",
              "        if (!dataTable) return;\n",
              "\n",
              "        const docLinkHtml = 'Like what you see? Visit the ' +\n",
              "          '<a target=\"_blank\" href=https://colab.research.google.com/notebooks/data_table.ipynb>data table notebook</a>'\n",
              "          + ' to learn more about interactive tables.';\n",
              "        element.innerHTML = '';\n",
              "        dataTable['output_type'] = 'display_data';\n",
              "        await google.colab.output.renderOutput(dataTable, element);\n",
              "        const docLink = document.createElement('div');\n",
              "        docLink.innerHTML = docLinkHtml;\n",
              "        element.appendChild(docLink);\n",
              "      }\n",
              "    </script>\n",
              "  </div>\n",
              "\n",
              "\n",
              "<div id=\"df-4e97d028-3fac-470f-b39c-7f77896e0096\">\n",
              "  <button class=\"colab-df-quickchart\" onclick=\"quickchart('df-4e97d028-3fac-470f-b39c-7f77896e0096')\"\n",
              "            title=\"Suggest charts\"\n",
              "            style=\"display:none;\">\n",
              "\n",
              "<svg xmlns=\"http://www.w3.org/2000/svg\" height=\"24px\"viewBox=\"0 0 24 24\"\n",
              "     width=\"24px\">\n",
              "    <g>\n",
              "        <path d=\"M19 3H5c-1.1 0-2 .9-2 2v14c0 1.1.9 2 2 2h14c1.1 0 2-.9 2-2V5c0-1.1-.9-2-2-2zM9 17H7v-7h2v7zm4 0h-2V7h2v10zm4 0h-2v-4h2v4z\"/>\n",
              "    </g>\n",
              "</svg>\n",
              "  </button>\n",
              "\n",
              "<style>\n",
              "  .colab-df-quickchart {\n",
              "      --bg-color: #E8F0FE;\n",
              "      --fill-color: #1967D2;\n",
              "      --hover-bg-color: #E2EBFA;\n",
              "      --hover-fill-color: #174EA6;\n",
              "      --disabled-fill-color: #AAA;\n",
              "      --disabled-bg-color: #DDD;\n",
              "  }\n",
              "\n",
              "  [theme=dark] .colab-df-quickchart {\n",
              "      --bg-color: #3B4455;\n",
              "      --fill-color: #D2E3FC;\n",
              "      --hover-bg-color: #434B5C;\n",
              "      --hover-fill-color: #FFFFFF;\n",
              "      --disabled-bg-color: #3B4455;\n",
              "      --disabled-fill-color: #666;\n",
              "  }\n",
              "\n",
              "  .colab-df-quickchart {\n",
              "    background-color: var(--bg-color);\n",
              "    border: none;\n",
              "    border-radius: 50%;\n",
              "    cursor: pointer;\n",
              "    display: none;\n",
              "    fill: var(--fill-color);\n",
              "    height: 32px;\n",
              "    padding: 0;\n",
              "    width: 32px;\n",
              "  }\n",
              "\n",
              "  .colab-df-quickchart:hover {\n",
              "    background-color: var(--hover-bg-color);\n",
              "    box-shadow: 0 1px 2px rgba(60, 64, 67, 0.3), 0 1px 3px 1px rgba(60, 64, 67, 0.15);\n",
              "    fill: var(--button-hover-fill-color);\n",
              "  }\n",
              "\n",
              "  .colab-df-quickchart-complete:disabled,\n",
              "  .colab-df-quickchart-complete:disabled:hover {\n",
              "    background-color: var(--disabled-bg-color);\n",
              "    fill: var(--disabled-fill-color);\n",
              "    box-shadow: none;\n",
              "  }\n",
              "\n",
              "  .colab-df-spinner {\n",
              "    border: 2px solid var(--fill-color);\n",
              "    border-color: transparent;\n",
              "    border-bottom-color: var(--fill-color);\n",
              "    animation:\n",
              "      spin 1s steps(1) infinite;\n",
              "  }\n",
              "\n",
              "  @keyframes spin {\n",
              "    0% {\n",
              "      border-color: transparent;\n",
              "      border-bottom-color: var(--fill-color);\n",
              "      border-left-color: var(--fill-color);\n",
              "    }\n",
              "    20% {\n",
              "      border-color: transparent;\n",
              "      border-left-color: var(--fill-color);\n",
              "      border-top-color: var(--fill-color);\n",
              "    }\n",
              "    30% {\n",
              "      border-color: transparent;\n",
              "      border-left-color: var(--fill-color);\n",
              "      border-top-color: var(--fill-color);\n",
              "      border-right-color: var(--fill-color);\n",
              "    }\n",
              "    40% {\n",
              "      border-color: transparent;\n",
              "      border-right-color: var(--fill-color);\n",
              "      border-top-color: var(--fill-color);\n",
              "    }\n",
              "    60% {\n",
              "      border-color: transparent;\n",
              "      border-right-color: var(--fill-color);\n",
              "    }\n",
              "    80% {\n",
              "      border-color: transparent;\n",
              "      border-right-color: var(--fill-color);\n",
              "      border-bottom-color: var(--fill-color);\n",
              "    }\n",
              "    90% {\n",
              "      border-color: transparent;\n",
              "      border-bottom-color: var(--fill-color);\n",
              "    }\n",
              "  }\n",
              "</style>\n",
              "\n",
              "  <script>\n",
              "    async function quickchart(key) {\n",
              "      const quickchartButtonEl =\n",
              "        document.querySelector('#' + key + ' button');\n",
              "      quickchartButtonEl.disabled = true;  // To prevent multiple clicks.\n",
              "      quickchartButtonEl.classList.add('colab-df-spinner');\n",
              "      try {\n",
              "        const charts = await google.colab.kernel.invokeFunction(\n",
              "            'suggestCharts', [key], {});\n",
              "      } catch (error) {\n",
              "        console.error('Error during call to suggestCharts:', error);\n",
              "      }\n",
              "      quickchartButtonEl.classList.remove('colab-df-spinner');\n",
              "      quickchartButtonEl.classList.add('colab-df-quickchart-complete');\n",
              "    }\n",
              "    (() => {\n",
              "      let quickchartButtonEl =\n",
              "        document.querySelector('#df-4e97d028-3fac-470f-b39c-7f77896e0096 button');\n",
              "      quickchartButtonEl.style.display =\n",
              "        google.colab.kernel.accessAllowed ? 'block' : 'none';\n",
              "    })();\n",
              "  </script>\n",
              "</div>\n",
              "\n",
              "    </div>\n",
              "  </div>\n"
            ],
            "application/vnd.google.colaboratory.intrinsic+json": {
              "type": "dataframe",
              "variable_name": "df",
              "summary": "{\n  \"name\": \"df\",\n  \"rows\": 643,\n  \"fields\": [\n    {\n      \"column\": \"Poet\",\n      \"properties\": {\n        \"dtype\": \"category\",\n        \"num_unique_values\": 12,\n        \"samples\": [\n          \"Shahryar\",\n          \"Bashir Badr\",\n          \"Unknown\"\n        ],\n        \"semantic_type\": \"\",\n        \"description\": \"\"\n      }\n    },\n    {\n      \"column\": \"Poetry Text\",\n      \"properties\": {\n        \"dtype\": \"string\",\n        \"num_unique_values\": 399,\n        \"samples\": [\n          \"chamak rah\\u012b hai paro\\u00f1 me\\u00f1 u\\u1e0caan k\\u012b \\u1e33hushb\\u016b bul\\u0101 rah\\u012b hai bahut \\u0101sm\\u0101n k\\u012b \\u1e33hushb\\u016b \\nbhaTak rah\\u012b hai pur\\u0101n\\u012b dul\\u0101.iy\\u0101\\u00f1 o\\u1e0che haveliyo\\u00f1 me\\u00f1 mire \\u1e33h\\u0101nd\\u0101n k\\u012b \\u1e33hushb\\u016b \\nsun\\u0101 ke ko\\u012b kah\\u0101n\\u012b hame\\u00f1 sul\\u0101t\\u012b th\\u012b du\\u0101o\\u00f1 jais\\u012b ba\\u1e0ce p\\u0101n-d\\u0101n k\\u012b \\u1e33hushb\\u016b \\ndab\\u0101 th\\u0101 phuul ko\\u012b mez-posh ke n\\u012bche garaj rah\\u012b th\\u012b bahut pechv\\u0101n k\\u012b \\u1e33hushb\\u016b \\najab vaq\\u0101r th\\u0101 s\\u016bkhe sunahre b\\u0101lo\\u00f1 me\\u00f1 ud\\u0101siyo\\u00f1 k\\u012b chamak zard lawn k\\u012b \\u1e33hushb\\u016b \\nvo itr-d\\u0101n s\\u0101 lahja mire buzurgo\\u00f1 k\\u0101 rach\\u012b-bas\\u012b hu\\u012b urdu zab\\u0101n k\\u012b \\u1e33hushb\\u016b \\n\\u0121hazal k\\u012b sh\\u0101\\u1e33h pe ik phuul khilne vaal\\u0101 hai badan se aane lag\\u012b za.afr\\u0101n k\\u012b \\u1e33hushb\\u016b \\nim\\u0101rato\\u00f1 k\\u012b buland\\u012b pe ko\\u012b mausam ky\\u0101 kah\\u0101\\u00f1 se aa ga.\\u012b kachche mak\\u0101n k\\u012b \\u1e33hushb\\u016b \\ngulo\\u00f1 pe likht\\u012b hu\\u012b l\\u0101-il\\u0101ha-illall\\u0101h pah\\u0101\\u1e0ciyo\\u00f1 se utart\\u012b azaan k\\u012b \\u1e33hushb\\u016b \\nchamak rahi hai paron mein uDan ki KHushbu bula rahi hai bahut aasman ki KHushbu \\nbhaTak rahi hai purani dulaiyan oDhe haweliyon mein mere KHandan ki KHushbu \\nsuna ke koi kahani hamein sulati thi duaon jaisi baDe pan-dan ki KHushbu \\ndaba tha phul koi mez-posh ke niche garaj rahi thi bahut pechwan ki KHushbu \\najab waqar tha sukhe sunahre baalon mein udasiyon ki chamak zard lawn ki KHushbu \\nwo itr-dan sa lahja mere buzurgon ka rachi-basi hui urdu zaban ki KHushbu \\nghazal ki shaKH pe ek phul khilne wala hai badan se aane lagi zafran ki KHushbu \\nimaraton ki bulandi pe koi mausam kya kahan se aa gai kachche makan ki KHushbu \\ngulon pe likhti hui la-ilaha-illallah pahaDiyon se utarti azan ki KHushbu \",\n          \"kuchh laag kuchh lag\\u0101v mohabbat me\\u00f1 ch\\u0101hiye dono\\u00f1 tarah k\\u0101 ra\\u00f1g tab\\u012b.at me\\u00f1 ch\\u0101hiye \\nye ky\\u0101 ki but bane hue baiThe ho bazm me\\u00f1 kuchh be-takalluf\\u012b bh\\u012b to \\u1e33halvat me\\u00f1 ch\\u0101hiye \\nvo ibtid\\u0101-e-ishq me\\u00f1 h\\u0101sil hu\\u012b mujhe jo baat intih\\u0101-e-mohabbat me\\u00f1 ch\\u0101hiye \\n\\u0101.e\\u00f1ge be-shum\\u0101r farishte azaab ke maid\\u0101n-e-hashr \\u0121hair k\\u012b turbat me\\u00f1 ch\\u0101hiye \\nkuchh to pa\\u1e0ce dab\\u0101o dil-e-be-qar\\u0101r par paar\\u0101 bhar\\u0101 hu\\u0101 mir\\u012b turbat me\\u00f1 ch\\u0101hiye \\nm\\u0101sh\\u016bq ke kahe k\\u0101 bur\\u0101 m\\u0101nte ho 'd\\u0101\\u0121h' bard\\u0101sht aadm\\u012b k\\u012b tab\\u012b.at me\\u00f1 ch\\u0101hiye \\nkuchh lag kuchh lagaw mohabbat mein chahiye donon tarah ka rang tabiat mein chahiye \\nye kya ki but bane hue baiThe ho bazm mein kuchh be-takallufi bhi to KHalwat mein chahiye \\nwo ibtida-e-ishq mein hasil hui mujhe jo baat intiha-e-mohabbat mein chahiye \\naaenge be-shumar farishte azab ke maidan-e-hashr ghair ki turbat mein chahiye \\nkuchh to paDe dabao dil-e-be-qarar par para bhara hua meri turbat mein chahiye \\nmashuq ke kahe ka bura mante ho 'dagh' bardasht aadmi ki tabiat mein chahiye \",\n          \"\\u0121ham se kah\\u012b\\u00f1 naj\\u0101t mile chain paa.e\\u00f1 ham dil \\u1e33huun me\\u00f1 nah\\u0101.e to ga\\u00f1g\\u0101 nah\\u0101.e\\u00f1 ham \\njannat me\\u00f1 jaa.e\\u00f1 ham ki jahannam me\\u00f1 jaa.e\\u00f1 ham mil jaa.e to kah\\u012b\\u00f1 na kah\\u012b\\u00f1 tujh ko paa.e\\u00f1 ham \\njauf-e-falak me\\u00f1 \\u1e33haak bh\\u012b lazzat nah\\u012b\\u00f1 rah\\u012b j\\u012b ch\\u0101ht\\u0101 hai ter\\u012b jaf\\u0101.e\\u00f1 uTh\\u0101.e\\u00f1 ham \\nDar hai na bhuul jaa.e vo saff\\u0101k roz-e-hashr duniy\\u0101 me\\u00f1 likhte jaate hai\\u00f1 apn\\u012b \\u1e33hat\\u0101.e\\u00f1 ham \\nmumkin hai ye ki va.ade par apne vo aa bh\\u012b jaa.e mushkil ye hai ki aap me\\u00f1 us vaqt aa.e\\u00f1 ham \\nn\\u0101r\\u0101z ho \\u1e33hud\\u0101 to kare\\u00f1 bandag\\u012b se \\u1e33hush m\\u0101sh\\u016bq ruuTh jaa.e to ky\\u016b\\u00f1kar man\\u0101.e\\u00f1 ham \\nsar dosto\\u00f1 k\\u0101 kaaT ke rakhte hai\\u00f1 s\\u0101mne \\u0121hairo\\u00f1 se p\\u016bchhte hai\\u00f1 qasam kis k\\u012b kh\\u0101.e\\u00f1 ham \\nkitn\\u0101 tir\\u0101 miz\\u0101j \\u1e33hush\\u0101mad-pasand hai kab tak kare\\u00f1 \\u1e33hud\\u0101 ke liye iltij\\u0101.e\\u00f1 ham \\nl\\u0101lach abas hai dil k\\u0101 tumhe\\u00f1 vaqt-e-v\\u0101ps\\u012b\\u00f1 ye maal vo nah\\u012b\\u00f1 ki jise chho\\u1e0c jaa.e\\u00f1 ham \\nsau\\u00f1p\\u0101 tumhe\\u00f1 \\u1e33hud\\u0101 ko chale ham to n\\u0101-mur\\u0101d kuchh pa\\u1e0ch ke ba\\u1e33hshn\\u0101 jo kabh\\u012b yaad aa.e\\u00f1 ham \\nsoz-e-dar\\u016b\\u00f1 se apne sharar ban ga.e hai\\u00f1 ashk kyuu\\u00f1 \\u0101h-e-sard ko na pati\\u00f1ge lag\\u0101.e\\u00f1 ham \\nye jaan tum na loge agar aap j\\u0101.eg\\u012b us bevaf\\u0101 k\\u012b \\u1e33hair kah\\u0101\\u00f1 tak man\\u0101.e\\u00f1 ham \\nham-s\\u0101.e j\\u0101gte rahe n\\u0101lo\\u00f1 se raat bhar so.e hue nas\\u012bb ko ky\\u016b\\u00f1kar jag\\u0101.e\\u00f1 ham \\njalva dikh\\u0101 rah\\u0101 hai vo \\u0101.\\u012bna-e-jam\\u0101l aat\\u012b hai ham ko sharm ki ky\\u0101 mu\\u00f1h dikh\\u0101.e\\u00f1 ham \\nmaano kah\\u0101 jaf\\u0101 na karo tum vaf\\u0101 ke ba.ad ais\\u0101 na ho ki pher le\\u00f1 ulT\\u012b du\\u0101.e\\u00f1 ham \\ndushman se milte julte hai\\u00f1 \\u1e33h\\u0101tir se dost\\u012b ky\\u0101 f\\u0101.eda jo dost ko dushman ban\\u0101.e\\u00f1 ham \\nt\\u016b bh\\u016blne k\\u012b chiiz nah\\u012b\\u00f1 \\u1e33huub yaad rakh ai 'd\\u0101\\u0121h' kis tarah tujhe dil se bhul\\u0101.e\\u00f1 ham \\ngham se kahin najat mile chain paen hum dil KHun mein nahae to ganga nahaen hum \\njannat mein jaen hum ki jahannam mein jaen hum mil jae to kahin na kahin tujh ko paen hum \\njauf-e-falak mein KHak bhi lazzat nahin rahi ji chahta hai teri jafaen uThaen hum \\nDar hai na bhul jae wo saffak roz-e-hashr duniya mein likhte jate hain apni KHataen hum \\nmumkin hai ye ki wade par apne wo aa bhi jae mushkil ye hai ki aap mein us waqt aaen hum \\nnaraaz ho KHuda to karen bandagi se KHush mashuq ruTh jae to kyunkar manaen hum \\nsar doston ka kaT ke rakhte hain samne ghairon se puchhte hain qasam kis ki khaen hum \\nkitna tera mizaj KHushamad-pasand hai kab tak karen KHuda ke liye iltijaen hum \\nlalach abas hai dil ka tumhein waqt-e-wapsin ye mal wo nahin ki jise chhoD jaen hum \\nsaunpa tumhein KHuda ko chale hum to na-murad kuchh paDh ke baKHshna jo kabhi yaad aaen hum \\nsoz-e-darun se apne sharar ban gae hain ashk kyun aah-e-sard ko na patinge lagaen hum \\nye jaan tum na loge agar aap jaegi us bewafa ki KHair kahan tak manaen hum \\nham-sae jagte rahe nalon se raat bhar soe hue nasib ko kyunkar jagaen hum \\njalwa dikha raha hai wo aaina-e-jamal aati hai hum ko sharm ki kya munh dikhaen hum \\nmano kaha jafa na karo tum wafa ke baad aisa na ho ki pher len ulTi duaen hum \\ndushman se milte julte hain KHatir se dosti kya faeda jo dost ko dushman banaen hum \\ntu bhulne ki chiz nahin KHub yaad rakh ai 'dagh' kis tarah tujhe dil se bhulaen hum \"\n        ],\n        \"semantic_type\": \"\",\n        \"description\": \"\"\n      }\n    }\n  ]\n}"
            }
          },
          "metadata": {},
          "execution_count": 39
        }
      ]
    },
    {
      "cell_type": "markdown",
      "source": [
        "## Tokenization using Sentence Piece Tokenizer"
      ],
      "metadata": {
        "id": "-kw4NS7LS3Gx"
      }
    },
    {
      "cell_type": "code",
      "source": [
        "# Create word-based vocabulary\n",
        "def create_word_vocab(texts, poet_names):\n",
        "    # Split all texts into words, preserving newlines\n",
        "    all_words = []\n",
        "    for text in texts:\n",
        "        # Split by whitespace while preserving \\n\n",
        "        words = []\n",
        "        for line in text.split('\\n'):\n",
        "            words.extend(line.split())\n",
        "            words.append('\\n')  # Add newline as a token\n",
        "        all_words.extend(words[:-1])  # Remove last extra \\n\n",
        "\n",
        "    # Add each word in poet names to vocabulary\n",
        "    for poet in poet_names:\n",
        "        all_words.extend(poet.split())  # Split multi-word poet names\n",
        "\n",
        "    unique_words = sorted(list(set(all_words)))\n",
        "    special_tokens = ['<pad>', '<unk>', '<poet>', '</poet>']\n",
        "    vocab = special_tokens + unique_words\n",
        "\n",
        "    word2idx = {word: idx for idx, word in enumerate(vocab)}\n",
        "    idx2word = {idx: word for idx, word in enumerate(vocab)}\n",
        "\n",
        "    return word2idx, idx2word, len(vocab)\n"
      ],
      "metadata": {
        "id": "oN3oXiKWRLr-"
      },
      "execution_count": 40,
      "outputs": []
    },
    {
      "cell_type": "code",
      "source": [
        "# Function to tokenize text with poet context\n",
        "def tokenize_with_poet(text, poet_name, word2idx):\n",
        "    poet_context = f\"<poet> {poet_name} </poet>\"\n",
        "    words = []\n",
        "    # Split text by lines and add \\n tokens\n",
        "    for line in text.split('\\n'):\n",
        "        words.extend(line.split())\n",
        "        words.append('\\n')\n",
        "    words = words[:-1]  # Remove last extra \\n\n",
        "\n",
        "    full_text = poet_context.split() + words\n",
        "    return [word2idx.get(word, word2idx['<unk>']) for word in full_text]\n",
        "\n",
        "# Create vocabulary\n",
        "poetry_texts = df['Poetry Text'].tolist()\n",
        "poets = df['Poet'].unique().tolist()\n",
        "word2idx, idx2word, vocab_size = create_word_vocab(poetry_texts, poets)\n",
        "\n",
        "# Create tokenized dataset\n",
        "tokenized_data = []\n",
        "for _, row in tqdm(df.iterrows(), total=len(df)):\n",
        "    tokens = tokenize_with_poet(row['Poetry Text'], row['Poet'], word2idx)\n",
        "    tokenized_data.append(tokens)\n"
      ],
      "metadata": {
        "colab": {
          "base_uri": "https://localhost:8080/"
        },
        "id": "rVnggKXuSSus",
        "outputId": "b64e3aa9-8b8a-44ea-8854-986182c9942b"
      },
      "execution_count": 41,
      "outputs": [
        {
          "output_type": "stream",
          "name": "stderr",
          "text": [
            "100%|██████████| 643/643 [00:00<00:00, 8460.29it/s]\n"
          ]
        }
      ]
    },
    {
      "cell_type": "code",
      "source": [
        "# Convert to PyTorch tensors and pad sequences\n",
        "token_lengths = [len(x) for x in tokenized_data]\n",
        "max_len = max(token_lengths)\n",
        "\n",
        "padded_data = []\n",
        "for tokens in tokenized_data:\n",
        "    padded = tokens + [word2idx['<pad>']] * (max_len - len(tokens))\n",
        "    padded_data.append(padded)\n",
        "\n",
        "tensor_data = torch.LongTensor(padded_data)\n",
        "\n",
        "print(f\"Tokenized data shape: {tensor_data.shape}\")\n",
        "print(f\"Vocabulary size: {vocab_size}\")\n"
      ],
      "metadata": {
        "colab": {
          "base_uri": "https://localhost:8080/"
        },
        "id": "8Z2iRk9_bPz_",
        "outputId": "af97779d-acc2-42d5-9dc2-cfa237172ec9"
      },
      "execution_count": 42,
      "outputs": [
        {
          "output_type": "stream",
          "name": "stdout",
          "text": [
            "Tokenized data shape: torch.Size([643, 929])\n",
            "Vocabulary size: 12035\n"
          ]
        }
      ]
    },
    {
      "cell_type": "markdown",
      "source": [
        "## GRU"
      ],
      "metadata": {
        "id": "_EwnaGK8S8Up"
      }
    },
    {
      "cell_type": "code",
      "source": [
        "class GRU(nn.Module):\n",
        "    def __init__(self, vocab_size, embedding_dim, hidden_dim, num_layers, dropout=0.1):\n",
        "        super().__init__()\n",
        "\n",
        "        # Define class attributes\n",
        "        self.vocab_size = vocab_size\n",
        "        self.embedding_dim = embedding_dim\n",
        "        self.hidden_dim = hidden_dim\n",
        "        self.num_layers = num_layers\n",
        "        self.dropout_rate = dropout\n",
        "\n",
        "        # Create the layers\n",
        "        self.embedding = nn.Embedding(vocab_size, embedding_dim)\n",
        "        self.gru = nn.GRU(embedding_dim, hidden_dim, num_layers, dropout=dropout, batch_first=True)\n",
        "        self.dropout = nn.Dropout(dropout)\n",
        "        self.fc = nn.Linear(hidden_dim, vocab_size)\n",
        "\n",
        "    def forward(self, x, hidden=None):\n",
        "        embed = self.embedding(x)\n",
        "        output, hidden = self.gru(embed, hidden)\n",
        "        output = self.dropout(output)\n",
        "        prediction = self.fc(output)\n",
        "        return prediction, hidden"
      ],
      "metadata": {
        "id": "6UYN2-n1Sf2e"
      },
      "execution_count": 43,
      "outputs": []
    },
    {
      "cell_type": "markdown",
      "source": [],
      "metadata": {
        "id": "uez1CPMJS9rQ"
      }
    },
    {
      "cell_type": "code",
      "source": [
        "# Create PyTorch Dataset\n",
        "class PoetryDataset(torch.utils.data.Dataset):\n",
        "    def __init__(self, data, sequence_length):\n",
        "        self.data = data\n",
        "        self.sequence_length = sequence_length\n",
        "        self.sequences = []\n",
        "\n",
        "        # Create sequences in correct shape\n",
        "        for i in range(len(data)):\n",
        "            # Use only the first sequence_length tokens if longer\n",
        "            if len(data[i]) > sequence_length:\n",
        "                seq = data[i][:sequence_length]\n",
        "                target = data[i][1:sequence_length+1]\n",
        "                self.sequences.append((seq, target))\n",
        "\n",
        "    def __len__(self):\n",
        "        return len(self.sequences)\n",
        "\n",
        "    def __getitem__(self, idx):\n",
        "        sequence, target = self.sequences[idx]\n",
        "        return torch.LongTensor(sequence), torch.LongTensor(target)\n"
      ],
      "metadata": {
        "id": "TWcaPo1ZUQYs"
      },
      "execution_count": 44,
      "outputs": []
    },
    {
      "cell_type": "code",
      "source": [
        "# Configuration dictionary\n",
        "config = {\n",
        "    # Model parameters\n",
        "    'vocab_size': vocab_size,\n",
        "    'embedding_dim': 256,\n",
        "    'hidden_dim': 512,\n",
        "    'num_layers': 2,\n",
        "    'dropout': 0.1,\n",
        "\n",
        "    # Training parameters\n",
        "    'sequence_length': 100,\n",
        "    'batch_size': 32,\n",
        "    'epochs': 50,\n",
        "    'learning_rate': 0.001,\n",
        "\n",
        "    # Other settings\n",
        "    'device': torch.device('cuda' if torch.cuda.is_available() else 'cpu'),\n",
        "    'save_path': 'poetry_generator.pth'\n",
        "}"
      ],
      "metadata": {
        "id": "aJYazbTfUbO_"
      },
      "execution_count": 45,
      "outputs": []
    },
    {
      "cell_type": "code",
      "source": [
        "# Initialize model using config\n",
        "model = GRU(\n",
        "    vocab_size=config['vocab_size'],\n",
        "    embedding_dim=config['embedding_dim'],\n",
        "    hidden_dim=config['hidden_dim'],\n",
        "    num_layers=config['num_layers'],\n",
        "    dropout=config['dropout']\n",
        ").to(config['device'])\n"
      ],
      "metadata": {
        "id": "XvvZMGlzVVUj"
      },
      "execution_count": 46,
      "outputs": []
    },
    {
      "cell_type": "code",
      "source": [
        "# Convert tensor to numpy array and split into train and test\n",
        "data_array = tensor_data.numpy()\n",
        "train_data, test_data = train_test_split(data_array,test_size=0.1,random_state=42\n",
        ")\n",
        "\n",
        "# Create only training dataset\n",
        "train_dataset = PoetryDataset(train_data, config['sequence_length'])\n",
        "\n",
        "# Create only training dataloader\n",
        "train_dataloader = torch.utils.data.DataLoader(\n",
        "    train_dataset,\n",
        "    batch_size=config['batch_size'],\n",
        "    shuffle=True\n",
        ")"
      ],
      "metadata": {
        "id": "angXUntuVY0c"
      },
      "execution_count": 47,
      "outputs": []
    },
    {
      "cell_type": "code",
      "source": [
        "optimizer = torch.optim.Adam(model.parameters(), lr=config['learning_rate'])\n",
        "criterion = nn.CrossEntropyLoss(ignore_index=word2idx['<pad>'])"
      ],
      "metadata": {
        "id": "m7StWWsbVwI-"
      },
      "execution_count": 48,
      "outputs": []
    },
    {
      "cell_type": "code",
      "source": [
        "\n",
        "# Training loop\n",
        "def train_epoch(model, dataloader, optimizer, criterion, device):\n",
        "    model.train()\n",
        "    total_loss = 0\n",
        "\n",
        "    for batch_idx, (data, target) in enumerate(tqdm(dataloader)):\n",
        "        # Ensure input is 2D: [batch_size, sequence_length]\n",
        "        data = data.to(device)\n",
        "        target = target.to(device)\n",
        "\n",
        "        optimizer.zero_grad()\n",
        "        output, _ = model(data)  # GRU will handle making it 3D internally\n",
        "\n",
        "        # Reshape output and target for loss calculation\n",
        "        output = output.view(-1, output.size(-1))\n",
        "        target = target.view(-1)\n",
        "\n",
        "        loss = criterion(output, target)\n",
        "        loss.backward()\n",
        "        optimizer.step()\n",
        "\n",
        "        total_loss += loss.item()\n",
        "\n",
        "    return total_loss / len(dataloader)"
      ],
      "metadata": {
        "id": "HaGl4mINV1oL"
      },
      "execution_count": 49,
      "outputs": []
    },
    {
      "cell_type": "code",
      "source": [
        "# Simpler training loop\n",
        "print(\"Starting training...\")\n",
        "for epoch in range(config['epochs']):\n",
        "    train_loss = train_epoch(model, train_dataloader, optimizer, criterion, config['device'])\n",
        "    print(f'Epoch: {epoch+1}/{config[\"epochs\"]}, Loss: {train_loss:.4f}')\n",
        "\n",
        "    # Save the model on best loss\n",
        "    if epoch == 0 or train_loss < best_loss:\n",
        "        best_loss = train_loss\n",
        "        torch.save({\n",
        "            'epoch': epoch + 1,\n",
        "            'model_state_dict': model.state_dict(),\n",
        "            'optimizer_state_dict': optimizer.state_dict(),\n",
        "            'train_loss': train_loss,\n",
        "            'config': config\n",
        "        }, config['save_path'])\n",
        "\n",
        "print(\"Training completed and best model saved!\")"
      ],
      "metadata": {
        "colab": {
          "base_uri": "https://localhost:8080/"
        },
        "id": "OcSyJuvDV5BH",
        "outputId": "b85b3836-b97f-487a-a061-4b941778d04b"
      },
      "execution_count": 50,
      "outputs": [
        {
          "output_type": "stream",
          "name": "stdout",
          "text": [
            "Starting training...\n"
          ]
        },
        {
          "output_type": "stream",
          "name": "stderr",
          "text": [
            "100%|██████████| 19/19 [00:01<00:00, 15.59it/s]\n"
          ]
        },
        {
          "output_type": "stream",
          "name": "stdout",
          "text": [
            "Epoch: 1/50, Loss: 7.5167\n"
          ]
        },
        {
          "output_type": "stream",
          "name": "stderr",
          "text": [
            "100%|██████████| 19/19 [00:01<00:00, 16.77it/s]\n"
          ]
        },
        {
          "output_type": "stream",
          "name": "stdout",
          "text": [
            "Epoch: 2/50, Loss: 6.5543\n"
          ]
        },
        {
          "output_type": "stream",
          "name": "stderr",
          "text": [
            "100%|██████████| 19/19 [00:01<00:00, 16.66it/s]\n"
          ]
        },
        {
          "output_type": "stream",
          "name": "stdout",
          "text": [
            "Epoch: 3/50, Loss: 6.4333\n"
          ]
        },
        {
          "output_type": "stream",
          "name": "stderr",
          "text": [
            "100%|██████████| 19/19 [00:01<00:00, 16.68it/s]\n"
          ]
        },
        {
          "output_type": "stream",
          "name": "stdout",
          "text": [
            "Epoch: 4/50, Loss: 6.4574\n"
          ]
        },
        {
          "output_type": "stream",
          "name": "stderr",
          "text": [
            "100%|██████████| 19/19 [00:01<00:00, 16.79it/s]\n"
          ]
        },
        {
          "output_type": "stream",
          "name": "stdout",
          "text": [
            "Epoch: 5/50, Loss: 6.3784\n"
          ]
        },
        {
          "output_type": "stream",
          "name": "stderr",
          "text": [
            "100%|██████████| 19/19 [00:01<00:00, 16.70it/s]\n"
          ]
        },
        {
          "output_type": "stream",
          "name": "stdout",
          "text": [
            "Epoch: 6/50, Loss: 6.3373\n"
          ]
        },
        {
          "output_type": "stream",
          "name": "stderr",
          "text": [
            "100%|██████████| 19/19 [00:01<00:00, 16.68it/s]\n"
          ]
        },
        {
          "output_type": "stream",
          "name": "stdout",
          "text": [
            "Epoch: 7/50, Loss: 6.2647\n"
          ]
        },
        {
          "output_type": "stream",
          "name": "stderr",
          "text": [
            "100%|██████████| 19/19 [00:01<00:00, 16.47it/s]\n"
          ]
        },
        {
          "output_type": "stream",
          "name": "stdout",
          "text": [
            "Epoch: 8/50, Loss: 6.1541\n"
          ]
        },
        {
          "output_type": "stream",
          "name": "stderr",
          "text": [
            "100%|██████████| 19/19 [00:01<00:00, 16.43it/s]\n"
          ]
        },
        {
          "output_type": "stream",
          "name": "stdout",
          "text": [
            "Epoch: 9/50, Loss: 6.0519\n"
          ]
        },
        {
          "output_type": "stream",
          "name": "stderr",
          "text": [
            "100%|██████████| 19/19 [00:01<00:00, 16.51it/s]\n"
          ]
        },
        {
          "output_type": "stream",
          "name": "stdout",
          "text": [
            "Epoch: 10/50, Loss: 5.9710\n"
          ]
        },
        {
          "output_type": "stream",
          "name": "stderr",
          "text": [
            "100%|██████████| 19/19 [00:01<00:00, 16.46it/s]\n"
          ]
        },
        {
          "output_type": "stream",
          "name": "stdout",
          "text": [
            "Epoch: 11/50, Loss: 5.8128\n"
          ]
        },
        {
          "output_type": "stream",
          "name": "stderr",
          "text": [
            "100%|██████████| 19/19 [00:01<00:00, 16.21it/s]\n"
          ]
        },
        {
          "output_type": "stream",
          "name": "stdout",
          "text": [
            "Epoch: 12/50, Loss: 5.6953\n"
          ]
        },
        {
          "output_type": "stream",
          "name": "stderr",
          "text": [
            "100%|██████████| 19/19 [00:01<00:00, 16.30it/s]\n"
          ]
        },
        {
          "output_type": "stream",
          "name": "stdout",
          "text": [
            "Epoch: 13/50, Loss: 5.5746\n"
          ]
        },
        {
          "output_type": "stream",
          "name": "stderr",
          "text": [
            "100%|██████████| 19/19 [00:01<00:00, 16.34it/s]\n"
          ]
        },
        {
          "output_type": "stream",
          "name": "stdout",
          "text": [
            "Epoch: 14/50, Loss: 5.4105\n"
          ]
        },
        {
          "output_type": "stream",
          "name": "stderr",
          "text": [
            "100%|██████████| 19/19 [00:01<00:00, 16.27it/s]\n"
          ]
        },
        {
          "output_type": "stream",
          "name": "stdout",
          "text": [
            "Epoch: 15/50, Loss: 5.2894\n"
          ]
        },
        {
          "output_type": "stream",
          "name": "stderr",
          "text": [
            "100%|██████████| 19/19 [00:01<00:00, 16.22it/s]\n"
          ]
        },
        {
          "output_type": "stream",
          "name": "stdout",
          "text": [
            "Epoch: 16/50, Loss: 5.2107\n"
          ]
        },
        {
          "output_type": "stream",
          "name": "stderr",
          "text": [
            "100%|██████████| 19/19 [00:01<00:00, 16.17it/s]\n"
          ]
        },
        {
          "output_type": "stream",
          "name": "stdout",
          "text": [
            "Epoch: 17/50, Loss: 5.1337\n"
          ]
        },
        {
          "output_type": "stream",
          "name": "stderr",
          "text": [
            "100%|██████████| 19/19 [00:01<00:00, 16.07it/s]\n"
          ]
        },
        {
          "output_type": "stream",
          "name": "stdout",
          "text": [
            "Epoch: 18/50, Loss: 5.0519\n"
          ]
        },
        {
          "output_type": "stream",
          "name": "stderr",
          "text": [
            "100%|██████████| 19/19 [00:01<00:00, 16.04it/s]\n"
          ]
        },
        {
          "output_type": "stream",
          "name": "stdout",
          "text": [
            "Epoch: 19/50, Loss: 4.9602\n"
          ]
        },
        {
          "output_type": "stream",
          "name": "stderr",
          "text": [
            "100%|██████████| 19/19 [00:01<00:00, 15.97it/s]\n"
          ]
        },
        {
          "output_type": "stream",
          "name": "stdout",
          "text": [
            "Epoch: 20/50, Loss: 4.8849\n"
          ]
        },
        {
          "output_type": "stream",
          "name": "stderr",
          "text": [
            "100%|██████████| 19/19 [00:01<00:00, 16.01it/s]\n"
          ]
        },
        {
          "output_type": "stream",
          "name": "stdout",
          "text": [
            "Epoch: 21/50, Loss: 4.7782\n"
          ]
        },
        {
          "output_type": "stream",
          "name": "stderr",
          "text": [
            "100%|██████████| 19/19 [00:01<00:00, 16.03it/s]\n"
          ]
        },
        {
          "output_type": "stream",
          "name": "stdout",
          "text": [
            "Epoch: 22/50, Loss: 4.7036\n"
          ]
        },
        {
          "output_type": "stream",
          "name": "stderr",
          "text": [
            "100%|██████████| 19/19 [00:01<00:00, 16.05it/s]\n"
          ]
        },
        {
          "output_type": "stream",
          "name": "stdout",
          "text": [
            "Epoch: 23/50, Loss: 4.6168\n"
          ]
        },
        {
          "output_type": "stream",
          "name": "stderr",
          "text": [
            "100%|██████████| 19/19 [00:01<00:00, 15.99it/s]\n"
          ]
        },
        {
          "output_type": "stream",
          "name": "stdout",
          "text": [
            "Epoch: 24/50, Loss: 4.4920\n"
          ]
        },
        {
          "output_type": "stream",
          "name": "stderr",
          "text": [
            "100%|██████████| 19/19 [00:01<00:00, 15.96it/s]\n"
          ]
        },
        {
          "output_type": "stream",
          "name": "stdout",
          "text": [
            "Epoch: 25/50, Loss: 4.4360\n"
          ]
        },
        {
          "output_type": "stream",
          "name": "stderr",
          "text": [
            "100%|██████████| 19/19 [00:01<00:00, 16.03it/s]\n"
          ]
        },
        {
          "output_type": "stream",
          "name": "stdout",
          "text": [
            "Epoch: 26/50, Loss: 4.3030\n"
          ]
        },
        {
          "output_type": "stream",
          "name": "stderr",
          "text": [
            "100%|██████████| 19/19 [00:01<00:00, 15.98it/s]\n"
          ]
        },
        {
          "output_type": "stream",
          "name": "stdout",
          "text": [
            "Epoch: 27/50, Loss: 4.1987\n"
          ]
        },
        {
          "output_type": "stream",
          "name": "stderr",
          "text": [
            "100%|██████████| 19/19 [00:01<00:00, 15.94it/s]\n"
          ]
        },
        {
          "output_type": "stream",
          "name": "stdout",
          "text": [
            "Epoch: 28/50, Loss: 4.2109\n"
          ]
        },
        {
          "output_type": "stream",
          "name": "stderr",
          "text": [
            "100%|██████████| 19/19 [00:01<00:00, 16.14it/s]\n"
          ]
        },
        {
          "output_type": "stream",
          "name": "stdout",
          "text": [
            "Epoch: 29/50, Loss: 4.0438\n"
          ]
        },
        {
          "output_type": "stream",
          "name": "stderr",
          "text": [
            "100%|██████████| 19/19 [00:01<00:00, 16.16it/s]\n"
          ]
        },
        {
          "output_type": "stream",
          "name": "stdout",
          "text": [
            "Epoch: 30/50, Loss: 4.0092\n"
          ]
        },
        {
          "output_type": "stream",
          "name": "stderr",
          "text": [
            "100%|██████████| 19/19 [00:01<00:00, 16.12it/s]\n"
          ]
        },
        {
          "output_type": "stream",
          "name": "stdout",
          "text": [
            "Epoch: 31/50, Loss: 3.8673\n"
          ]
        },
        {
          "output_type": "stream",
          "name": "stderr",
          "text": [
            "100%|██████████| 19/19 [00:01<00:00, 16.23it/s]\n"
          ]
        },
        {
          "output_type": "stream",
          "name": "stdout",
          "text": [
            "Epoch: 32/50, Loss: 3.7999\n"
          ]
        },
        {
          "output_type": "stream",
          "name": "stderr",
          "text": [
            "100%|██████████| 19/19 [00:01<00:00, 16.30it/s]\n"
          ]
        },
        {
          "output_type": "stream",
          "name": "stdout",
          "text": [
            "Epoch: 33/50, Loss: 3.6789\n"
          ]
        },
        {
          "output_type": "stream",
          "name": "stderr",
          "text": [
            "100%|██████████| 19/19 [00:01<00:00, 16.29it/s]\n"
          ]
        },
        {
          "output_type": "stream",
          "name": "stdout",
          "text": [
            "Epoch: 34/50, Loss: 3.6122\n"
          ]
        },
        {
          "output_type": "stream",
          "name": "stderr",
          "text": [
            "100%|██████████| 19/19 [00:01<00:00, 16.25it/s]\n"
          ]
        },
        {
          "output_type": "stream",
          "name": "stdout",
          "text": [
            "Epoch: 35/50, Loss: 3.4761\n"
          ]
        },
        {
          "output_type": "stream",
          "name": "stderr",
          "text": [
            "100%|██████████| 19/19 [00:01<00:00, 16.26it/s]\n"
          ]
        },
        {
          "output_type": "stream",
          "name": "stdout",
          "text": [
            "Epoch: 36/50, Loss: 3.4151\n"
          ]
        },
        {
          "output_type": "stream",
          "name": "stderr",
          "text": [
            "100%|██████████| 19/19 [00:01<00:00, 16.46it/s]\n"
          ]
        },
        {
          "output_type": "stream",
          "name": "stdout",
          "text": [
            "Epoch: 37/50, Loss: 3.3398\n"
          ]
        },
        {
          "output_type": "stream",
          "name": "stderr",
          "text": [
            "100%|██████████| 19/19 [00:01<00:00, 16.51it/s]\n"
          ]
        },
        {
          "output_type": "stream",
          "name": "stdout",
          "text": [
            "Epoch: 38/50, Loss: 3.2345\n"
          ]
        },
        {
          "output_type": "stream",
          "name": "stderr",
          "text": [
            "100%|██████████| 19/19 [00:01<00:00, 16.37it/s]\n"
          ]
        },
        {
          "output_type": "stream",
          "name": "stdout",
          "text": [
            "Epoch: 39/50, Loss: 3.1119\n"
          ]
        },
        {
          "output_type": "stream",
          "name": "stderr",
          "text": [
            "100%|██████████| 19/19 [00:01<00:00, 16.43it/s]\n"
          ]
        },
        {
          "output_type": "stream",
          "name": "stdout",
          "text": [
            "Epoch: 40/50, Loss: 3.0215\n"
          ]
        },
        {
          "output_type": "stream",
          "name": "stderr",
          "text": [
            "100%|██████████| 19/19 [00:01<00:00, 16.44it/s]\n"
          ]
        },
        {
          "output_type": "stream",
          "name": "stdout",
          "text": [
            "Epoch: 41/50, Loss: 2.8934\n"
          ]
        },
        {
          "output_type": "stream",
          "name": "stderr",
          "text": [
            "100%|██████████| 19/19 [00:01<00:00, 16.43it/s]\n"
          ]
        },
        {
          "output_type": "stream",
          "name": "stdout",
          "text": [
            "Epoch: 42/50, Loss: 2.7875\n"
          ]
        },
        {
          "output_type": "stream",
          "name": "stderr",
          "text": [
            "100%|██████████| 19/19 [00:01<00:00, 16.54it/s]\n"
          ]
        },
        {
          "output_type": "stream",
          "name": "stdout",
          "text": [
            "Epoch: 43/50, Loss: 2.6309\n"
          ]
        },
        {
          "output_type": "stream",
          "name": "stderr",
          "text": [
            "100%|██████████| 19/19 [00:01<00:00, 16.32it/s]\n"
          ]
        },
        {
          "output_type": "stream",
          "name": "stdout",
          "text": [
            "Epoch: 44/50, Loss: 2.4955\n"
          ]
        },
        {
          "output_type": "stream",
          "name": "stderr",
          "text": [
            "100%|██████████| 19/19 [00:01<00:00, 16.40it/s]\n"
          ]
        },
        {
          "output_type": "stream",
          "name": "stdout",
          "text": [
            "Epoch: 45/50, Loss: 2.4728\n"
          ]
        },
        {
          "output_type": "stream",
          "name": "stderr",
          "text": [
            "100%|██████████| 19/19 [00:01<00:00, 16.46it/s]\n"
          ]
        },
        {
          "output_type": "stream",
          "name": "stdout",
          "text": [
            "Epoch: 46/50, Loss: 2.3632\n"
          ]
        },
        {
          "output_type": "stream",
          "name": "stderr",
          "text": [
            "100%|██████████| 19/19 [00:01<00:00, 16.55it/s]\n"
          ]
        },
        {
          "output_type": "stream",
          "name": "stdout",
          "text": [
            "Epoch: 47/50, Loss: 2.2337\n"
          ]
        },
        {
          "output_type": "stream",
          "name": "stderr",
          "text": [
            "100%|██████████| 19/19 [00:01<00:00, 16.41it/s]\n"
          ]
        },
        {
          "output_type": "stream",
          "name": "stdout",
          "text": [
            "Epoch: 48/50, Loss: 2.0731\n"
          ]
        },
        {
          "output_type": "stream",
          "name": "stderr",
          "text": [
            "100%|██████████| 19/19 [00:01<00:00, 16.44it/s]\n"
          ]
        },
        {
          "output_type": "stream",
          "name": "stdout",
          "text": [
            "Epoch: 49/50, Loss: 2.0203\n"
          ]
        },
        {
          "output_type": "stream",
          "name": "stderr",
          "text": [
            "100%|██████████| 19/19 [00:01<00:00, 16.46it/s]\n"
          ]
        },
        {
          "output_type": "stream",
          "name": "stdout",
          "text": [
            "Epoch: 50/50, Loss: 1.9028\n",
            "Training completed and best model saved!\n"
          ]
        }
      ]
    },
    {
      "cell_type": "code",
      "source": [
        "def generate_poetry(model, word2idx, idx2word, poet_name, seed_text=None, max_length=100, temperature=0.8, repetition_penalty=1.2, device='cuda'):\n",
        "    model.eval()\n",
        "\n",
        "    # Start with poet context\n",
        "    context = f\"<poet> {poet_name} </poet>\"\n",
        "    poet_context_length = len(context.split())\n",
        "\n",
        "    if seed_text:\n",
        "        context += \" \" + seed_text\n",
        "\n",
        "    # Convert to tokens\n",
        "    tokens = [word2idx.get(word, word2idx['<unk>']) for word in context.split()]\n",
        "    initial_input = torch.LongTensor(tokens).unsqueeze(0).to(device)\n",
        "\n",
        "    generated = tokens\n",
        "    with torch.no_grad():\n",
        "        hidden = None\n",
        "        curr_input = initial_input\n",
        "\n",
        "        for _ in range(max_length):\n",
        "            output, hidden = model(curr_input, hidden)\n",
        "            next_token_logits = output[0, -1, :] / temperature\n",
        "\n",
        "            # Apply repetition penalty\n",
        "            for idx in set(generated):\n",
        "                next_token_logits[idx] /= repetition_penalty\n",
        "\n",
        "            probs = torch.softmax(next_token_logits, dim=-1)\n",
        "            next_token = torch.multinomial(probs, num_samples=1)\n",
        "\n",
        "            if next_token.item() == word2idx['<pad>']:\n",
        "                break\n",
        "\n",
        "            generated.append(next_token.item())\n",
        "            curr_input = next_token.view(1, 1)\n",
        "\n",
        "    # Convert indices back to words\n",
        "    result = []\n",
        "    for idx in generated[poet_context_length:]:\n",
        "        word = idx2word[idx]\n",
        "        if word == '\\n':\n",
        "            result.append('\\n')\n",
        "        elif word not in ['<poet>', '</poet>']:\n",
        "            result.append(word)\n",
        "\n",
        "    generated_text = ' '.join(result).replace(' \\n', '\\n')\n",
        "    return generated_text.strip()\n"
      ],
      "metadata": {
        "id": "wTMzhFIPX-Za"
      },
      "execution_count": 64,
      "outputs": []
    },
    {
      "cell_type": "code",
      "source": [
        "# Load saved model\n",
        "checkpoint = torch.load('poetry_generator.pth')\n",
        "model.load_state_dict(checkpoint['model_state_dict'])\n",
        "\n",
        "# Generate poetry\n",
        "# Generate poetry\n",
        "poets = [\n",
        "    \"Mirza Ghalib\",\n",
        "    \"Dagh Dehlvi\",\n",
        "    \"Bashir Badr\",\n",
        "    \"Ahmad Faraz\",\n",
        "    \"Faiz Ahmad Faiz\",\n",
        "    \"Shahryar\",\n",
        "    \"Jaun Eliya\",\n",
        "    \"Hasrat Mohani\",\n",
        "    \"Ahmad Mushtaq\",\n",
        "    \"Shakeel Badayuni\"\n",
        "]\n",
        "seed_texts = [\n",
        "    \"dil\",\n",
        "    \"ishq\",\n",
        "    \"mohabbat\"\n",
        "]\n",
        "\n",
        "for poet in poets:\n",
        "    for seed in seed_texts:\n",
        "        print(f\"\\nPoet: {poet}\")\n",
        "        print(f\"Seed: {seed}\")\n",
        "        generated = generate_poetry(\n",
        "            model=model,\n",
        "            word2idx=word2idx,\n",
        "            idx2word=idx2word,\n",
        "            poet_name=poet,\n",
        "            seed_text=seed,\n",
        "            temperature=0.1,\n",
        "            repetition_penalty=1.2  # Add repetition penalty\n",
        "        )\n",
        "        print(f\"Generated:\\n{generated}\\n\")\n",
        "        print(\"-\"*50)"
      ],
      "metadata": {
        "colab": {
          "base_uri": "https://localhost:8080/"
        },
        "id": "IfogryWwYLBu",
        "outputId": "8fabb913-4264-40b5-f143-4d366a075fe5"
      },
      "execution_count": 65,
      "outputs": [
        {
          "output_type": "stream",
          "name": "stderr",
          "text": [
            "<ipython-input-65-4de95e0404e0>:2: FutureWarning: You are using `torch.load` with `weights_only=False` (the current default value), which uses the default pickle module implicitly. It is possible to construct malicious pickle data which will execute arbitrary code during unpickling (See https://github.com/pytorch/pytorch/blob/main/SECURITY.md#untrusted-models for more details). In a future release, the default value for `weights_only` will be flipped to `True`. This limits the functions that could be executed during unpickling. Arbitrary objects will no longer be allowed to be loaded via this mode unless they are explicitly allowlisted by the user via `torch.serialization.add_safe_globals`. We recommend you start setting `weights_only=True` for any use case where you don't have full control of the loaded file. Please open an issue on GitHub for any issues related to this experimental feature.\n",
            "  checkpoint = torch.load('poetry_generator.pth')\n"
          ]
        },
        {
          "output_type": "stream",
          "name": "stdout",
          "text": [
            "\n",
            "Poet: Mirza Ghalib\n",
            "Seed: dil\n",
            "Generated:\n",
            "dil hī to hai na sang-o-ḳhisht dard se bhī ik tamāshā huā kyā hai\n",
            " tū aur ārā.ish-e-ḳham-e-kākul ishq kī davā ho jaa.e\n",
            " yuuñ un ko na samjheñge ki mudda.ā thā jo ai shauq! kyā hai but-e-ā.ina-sīmā mire aage\n",
            " phir dekhiye andāz-e-gul-afshānī-e-guftār rakh de ham bin kyuuñ na mai gar hotā hai\n",
            " ye parī-chehra log kaise haiñ ġhamza o ishva o adā kyā hai\n",
            " sabza o gul kahāñ se aa.e haiñ abr kyā chiiz hai havā kyā hai\n",
            " ham ne maanā ki taġhāful na karoge lekin is qadar dushman-e-arbāb-e-vafā ho ga.e hote\n",
            " ab tak ghar\n",
            "\n",
            "--------------------------------------------------\n",
            "\n",
            "Poet: Mirza Ghalib\n",
            "Seed: ishq\n",
            "Generated:\n",
            "ishq kahāñ hī sahī dil hī to hai ki visāl-e-yār hotā na bane kyā huā koī\n",
            " mere ban ke liye aa jaa.e hai us ko magar ai jazba-e-dil tire ḳhat pe e'tibār huuñ agar mire aage\n",
            " ġhair phirtā hai kuchh aisī ki bin aa.e na de vo bhale haiñ ki bin kahe na ho aur ham-zaban bhī koī nahīñ hotā\n",
            " ye kya le kar koi na karoge ham karte haiñ is qadar kyuuñ na sakūñ mujh se\n",
            " phir bhī dushvār hai mauj-e-mai tirī zulf kā sāmāñ kiye\n",
            " ab tak jahan bhī muñh meñ ḳhaak ho nazāra-soz\n",
            "\n",
            "--------------------------------------------------\n",
            "\n",
            "Poet: Mirza Ghalib\n",
            "Seed: mohabbat\n",
            "Generated:\n",
            "mohabbat kī baat ke ishāre meñ nishāñ ki yuuñ ban gayā ātish-e-ḳhāmosh kī mānind koī hotā\n",
            " phir vaz'-e-ehtiyāt se kyā rahegā jo chashm-e-tar se rukne meñ aave\n",
            " Dare kyuuñ na nigāh kar vo qatl kar rahā huuñ maiñ ne ye kyā hai to chhupā.e na bane\n",
            " jab tak ghar meñ rahā aur us ko za-ḳhud thī lekin is qadar zillat ham to nauha-ḳhvāñ ġham-gusār haiñ\n",
            " bharam khul jaa.e zālim tere qāmat kī darāzī kā ham karte haiñ sahar hote tak\n",
            " ham ne maanā ki taġhāful na karoge ḳhaak ho jā.eñge ham tum pe e'timād thā yaad\n",
            "\n",
            "--------------------------------------------------\n",
            "\n",
            "Poet: Dagh Dehlvi\n",
            "Seed: dil\n",
            "Generated:\n",
            "dil churā kar nazar churā.ī hai mirī miTTī kisī ko kyā ma.alūm\n",
            " paiġhām-bar kī tarah hue bhī dushvār hai Thikānā mujhe\n",
            " ye kahte haiñ ki jī jāntā hai ki mudda.ā kyā hai\n",
            " jis meñ vo bhī muñh par aapas meñ zabān hai abhī tum se miltā hai\n",
            " ba-zāhir rahnumā haiñ udhar zamāna jaane huā jaatā hai\n",
            " dam-e-taqrīr naale o lab ne terī yaad se nīm-jāñ kyā kareñ\n",
            " ai majma-e-ḳhūbī mulāqātī dam din haiñ tere kushte ne hamāre ham ne\n",
            " jab tujh se ho jaanā jo puurī vahāñ ke sivā apne par ġhubār-e-nā-tavān-e-qais ye kalām\n",
            "\n",
            "--------------------------------------------------\n",
            "\n",
            "Poet: Dagh Dehlvi\n",
            "Seed: ishq\n",
            "Generated:\n",
            "ishq kisī hī se mirī dil ko lagā kar dekh gayā\n",
            " dil hai ki jī jāntā huuñ maiñ jaan kī nazar kare koī\n",
            " phir na aanā vo naam jo na Thikānā kyā jāneñ\n",
            " is qadar nigāh haiñ ye kaam kis ne kiyā hai ye baat jab tak na do\n",
            " hañsā ke ba.ad ham to apne haath par rakh kar baiThe rahe\n",
            " tum ne ai dil-e-shefta meñ rakhne meñ kyā rañg laayā hai maqām tirī zulf kā intizār kyā kareñ\n",
            " sach kar rahā muqīm kaun ho jaanā ek din aate haiñ saaf chhupte bhī nahīñ\n",
            "\n",
            "--------------------------------------------------\n",
            "\n",
            "Poet: Dagh Dehlvi\n",
            "Seed: mohabbat\n",
            "Generated:\n",
            "mohabbat meñ kyā tarz-e-kalām kar liyā hai mirī miTTī bhī aatā hai\n",
            " mujhe qatl ke qābil ilāhī ye kahte haiñ vo bismil nahīñ miltā\n",
            " paiġhām-bar kī shādī kahīñ mātam hai tiir ek roz se nīm-jāñ kyā chiiz hai hamāre aap ko zabāñ dekh rahe haiñ\n",
            " ye gustāḳhī ai majma-e-ḳhūbī mulāqātī puurī vahāñ ke baiThe haiñ bande maḳhlūq hai mujh se\n",
            " ba-zāhir rahnumā haiñ jazb-e-ulfat meñ jo dil kā ehsān hai muñh par sehr aate haiñ\n",
            " ham ne maanā to ho jaanā udhar bhī idhar o adā kyā hai\n",
            " zamāna nazar nahīñ jānte tum se ġham\n",
            "\n",
            "--------------------------------------------------\n",
            "\n",
            "Poet: Bashir Badr\n",
            "Seed: dil\n",
            "Generated:\n",
            "dil kī pyālī meñ niilī tablet gholī sahme hāthoñ ne coat ke ġhamoñ meñ jalte haiñ\n",
            " vo sādgī the ham ko ab tak kuchh bhī kam hai zamīñ paañv par haath malte haiñ\n",
            " ġhazal kī tarah tum se phuul suukh ga.e sāmne is taraf bhī rakkhe lete aate\n",
            " ye tunak-mizājī thā maiñ ghar pe khulī jag.hoñ meñ pariyoñ kī zamīneñ jo pyaar kī gardish muñh meñ totoñ kī chādar bichhā hain sab jañgaloñ meñ chhupāyā huā ḳhanjar nahīñ\n",
            " mahbūb kā bistar ho agar āsmāñ kī mohabbat mein palken zara bhigo ga.ī\n",
            " meri aankhon kī āñkhoñ meñ\n",
            "\n",
            "--------------------------------------------------\n",
            "\n",
            "Poet: Bashir Badr\n",
            "Seed: ishq\n",
            "Generated:\n",
            "ishq kī pyālī meñ niilī tablet gholī sahme hāthoñ ne use vo ġhazal kā ghar nahīñ\n",
            " be-vaqt agar jā.ūñgā merī āñkhoñ se chūmnā bhī ibādatoñ meñ shumār hai koī patā kaise jhapak ga.ī\n",
            " ye zāfrānī pullover usī kā hissa hai zamīñ raat ke phūloñ meñ jalte gayā\n",
            " kabhī miil kā safar meñ is tarah chheḌā din ham ko mire saath thī\n",
            " jis ne dil meñ phuul ho makān ho jaa.e mirī ek shaḳhs kī chādar bichhā ke liye\n",
            " ab tak nahin diye koi mohabbat kā saudā kar diyā maiñ ne wo badalte rahe haiñ\n",
            " meri\n",
            "\n",
            "--------------------------------------------------\n",
            "\n",
            "Poet: Bashir Badr\n",
            "Seed: mohabbat\n",
            "Generated:\n",
            "mohabbat kī tarah kaun vo ġhazal kā shajar lagtā hai bā-vazū ho ke bhī chhūte hue Dar nahīñ\n",
            " jis din se phuul suukh ga.e jo phūloñ meñ ghuTā koī phuul khilā ga.ī mirī manzil kā patthar nahīñ dekhā\n",
            " ye āñkhoñ pe le ke liye haiñ dil meñ ik dhuup meñ chhupāyā huā ḳhanjar nahīñ miltā\n",
            " mahbūb kā ghar ho to diye the ham ne ek muTThī meñ ab tum se mila lete udas raat kī chādar bichhā ke\n",
            " buzurgoñ kī zamīneñ ki buzurgoñ kī zamīneñ tere saath thī maiñ ne use ḳhuub samajhte hoñge\n",
            " meri mein\n",
            "\n",
            "--------------------------------------------------\n",
            "\n",
            "Poet: Ahmad Faraz\n",
            "Seed: dil\n",
            "Generated:\n",
            "dil se tahayyur hai ki rah-o-rasm-e-vafā na do naam kā gumāñ kheñchtā hai\n",
            " ye kahāñ ab to chal meñ koī phuul bhī hai mujhe\n",
            " jis ko bhī baḌā hai us ko ḳharāb-hāloñ se so apne aap ke saath\n",
            " is tarah ne use kisī kī ishq meñ ab bhī āvāza-e-ā.īna-girāñ bhī nahīñ aatā\n",
            " mujh ko bhī tere rakh haiñ ḳhamīda aur tū bichhḌā ki kaun sā kyā hai sazā.eñ\n",
            " ham ko bhī mahrūm ai rāhat-e-jāñ 'farāz' jab tak pahuñcheñ kis rāste meñ mileñ\n",
            " ye kya jagah hai dard kī galiyoñ pe phir bhī āvāza-e-ā.īna-girāñ kheñchtā hai\n",
            "\n",
            "--------------------------------------------------\n",
            "\n",
            "Poet: Ahmad Faraz\n",
            "Seed: ishq\n",
            "Generated:\n",
            "ishq kī or na paa.eñ to gale yaad meñ mileñ\n",
            " ye kahāñ karo ki mumkin hai ḳharāboñ meñ shāmil kar lo nashsha baḌhtā hai sharābeñ jo sharāboñ meñ mileñ\n",
            " tū ḳhudā hai ki ham ne mujhe na ho jis tarah ab tak vo bhī tere zamāne ko nisāboñ meñ mileñ\n",
            " ai ham-nafaso koī maujūd phir bhi dard ke saath aur kaun sā kyuuñ hai magar is shahr meñ tirī dahlīz pe dhar jā.egā\n",
            " ka.ī duniyā.eñ dil kis kā saaya hai us ko tujh se to kyā ajab kal jaane kyuuñ hai mujh ko\n",
            " jab to ye\n",
            "\n",
            "--------------------------------------------------\n",
            "\n",
            "Poet: Ahmad Faraz\n",
            "Seed: mohabbat\n",
            "Generated:\n",
            "mohabbat se niklā thā magar use aañkh bhī nahīñ dekhā kashtī ke saath 'mīr' zālim phir bhī gayā\n",
            " dast-e-qātil kī tarah ab ehtiyāt kī sadā kyā nādim na gulū kā niklā koī\n",
            " ye kis tarah ne ai dil ki bayāz-e-hāfiz kyā hai ḳharāboñ meñ mileñ\n",
            " jis din mujh ko manāne kar diyā to ham chhoḌ ke liye aa\n",
            " ik umr se huuñ lazzat-e-girya se lagī thī lekin us ko bhī bazm-nashīñ ahl-e-subū kā\n",
            " is qadar haar ke wo sabhi jate warna haiñ 'farāz' tum ne tujh se gurez\n",
            " ibtida the jo galiyoñ meñ vo zamāne\n",
            "\n",
            "--------------------------------------------------\n",
            "\n",
            "Poet: Faiz Ahmad Faiz\n",
            "Seed: dil\n",
            "Generated:\n",
            "dil meñ ab yuuñ tire ġham ke ba.ad the vo sāya-e-tar to kyā karte\n",
            " bām-e-mīnā se māhtāb utre dast-e-sāqī meñ āftāb aa.e jo azaab bhī nahīñ\n",
            " har rag-e-ḳhūñ meñ phir charāġhāñ ho sāmne kuchh na sahī dil hī lage\n",
            " kis tarah apnī ḳhāmushī gūñjī goyā is qadar lagī rahguzar kā hisāb\n",
            " ham ne rok ko dār-o-rasan vaale aaj 'faiz' mat ga.ī\n",
            " āḳhir-e-shab ke bhūle hue gham aate haiñ tere dardmand kya karte\n",
            " gulū-e-ishq pe khultā nahīñ sunte ham ḳhānumāñ-ḳharāb aa.e koī ḳhabar nahīñ sunte the ki tum tak na chale\n",
            " ai mohabbat tere bhule\n",
            "\n",
            "--------------------------------------------------\n",
            "\n",
            "Poet: Faiz Ahmad Faiz\n",
            "Seed: ishq\n",
            "Generated:\n",
            "ishq kī baat meñ sañvāre the ham ne is bahāne se guzarne meñ niyām phir bhī kam aa.e\n",
            " rañg-o-ḳhushbū ke husn-o-ḳhūbī ke unvāñ kyā aise tum se kaho ham karte chale\n",
            " ab na arz-e-ġham jo sar-e-rah sub.h vo atā-e-shaiḳh-e-haram ham to dekho\n",
            " gulū-e-ishq ko dār-o-rasan 'faiz' koī na sahī dil hī lagī hue jitne suKHan tumhaare aate haiñ\n",
            " girani-e-shab-e-hijran do-chand kya hui gūñjī goyā tere bhule hue gham ga.ī hai aaj yaad nahīñ\n",
            " dil mein wo terī mohabbat kā dimāġh vo yār-e-ḳhush-ḳhisāl na pūchh valvale dil-e-nā-kardā-kār ke\n",
            " viran kī tarah ab tak jān-e-jāñ dil meñ\n",
            "\n",
            "--------------------------------------------------\n",
            "\n",
            "Poet: Faiz Ahmad Faiz\n",
            "Seed: mohabbat\n",
            "Generated:\n",
            "mohabbat meñ kuchh sharāb ke ba.ad aa.e ham ne hausle kab yaad nahīñ sunte the vo bhī sahāre haiñ\n",
            " dil mudda.ī ke unvāñ the jo jān-e-jāñ terī mehr-o-vafā ke rakh kar liyā kyā\n",
            " har umr se lagī thī ab tum bhī kam dukhtā hai is tarah aa gayā hai to dekho\n",
            " ham ne rok ko dār-o-rasan hī sahī sāmne tere ġham kī sardārī dil meñ sitāre utarne lagte haiñ\n",
            " dil mein 'faiz' na pūchh wo 'faiz' mat pūchh valvale dil-e-nā-kardā-kār ke\n",
            " bhūle se muskurā to diye the vo aaj 'faiz' mat pūchh valvale dil-e-nā-kardā-kār ke\n",
            "\n",
            "--------------------------------------------------\n",
            "\n",
            "Poet: Shahryar\n",
            "Seed: dil\n",
            "Generated:\n",
            "dil kī sadā kyuuñ na paayā ham ne is bahāne se magar dekh lī duniyā ham ne\n",
            " har ek din kā ahvāl vahī hai jo hamārā hai aaj ye alag baat ki shikva kiyā tanhā ham ne\n",
            " ḳhud pashīmān hue ne use sharminda kiyā ishq kī vaz.a ko kyā ḳhuub nibhāyā ham ne\n",
            " umr bhar sach hī kahā sach ke sivā kuchh na ho zamīn-e-saḳht tujh ko phūltā-phaltā huā dekheñ\n",
            " main rok sakoge jism ki qahr ye kya jagah thī hameñ nahīñ bolne vaale ye kya hua dekhā\n",
            " zindagi jaisi tawaqqo thi tere wade se milā\n",
            "\n",
            "--------------------------------------------------\n",
            "\n",
            "Poet: Shahryar\n",
            "Seed: ishq\n",
            "Generated:\n",
            "ishq kī sadā ho kabhī ḳhvāboñ meñ tūfān sā kyuuñ hai is shahr meñ har ek muddat se koī DhūñDe kyā chiiz hai\n",
            " ham ne to dhaḌakne kā bahāna kahīñ vo log jin ko dūsroñ pe e'tibār hai\n",
            " ye na jis kī shakl hai jo ye kaun sā baat hai ki shikva huā hai hamārā\n",
            " sine mein jalan aankhon mein tufan sa kyun hai aaj tak ye kaun sā kyuuñ hai\n",
            " ye kya jagah hai dosto ye kaun sa dayar hai had-e-nigah tak jahan ghubar hi ghubar hai\n",
            " chehron ke bādaloñ meñ chhup ga.e kahne meñ\n",
            "\n",
            "--------------------------------------------------\n",
            "\n",
            "Poet: Shahryar\n",
            "Seed: mohabbat\n",
            "Generated:\n",
            "mohabbat kī thī is bahāne se kabhī din bhī dariyā huā dekheñ ye kyā hai ki ham ne hamārā aisā na paayā\n",
            " har ek jism par ḳhvāb ke sivā kuchh to dhaḌakne kā huuñ maiñ jis ne dil ko dekhtā huuñ maiñ aaj vo tū sā hai\n",
            " ḳhud ko bhī sūraj pe e'tibār nahīñ ḳhoshā vo bhī yaqīñ gayā yaaro\n",
            " jab tujh se kahā hai nāzil ek shaḳhs mein aae ham ne mujhe ḳhauf kis ko phūltā-phaltā huā hai\n",
            " sine mein jalan aankhon mein tufan sa kyun hai zindagi ka tere nam meñ kaun ho ga.e haiñ\n",
            "\n",
            "--------------------------------------------------\n",
            "\n",
            "Poet: Jaun Eliya\n",
            "Seed: dil\n",
            "Generated:\n",
            "dil ko be-qarārī hai aur chāroñ taarī hai ki nāshād karūñgā tujh se hoñge sach-much meñ aa.uuñ\n",
            " nighare kyā hai us kī suntā huuñ maiñ apne vo bhī mirī har ek din darpesh hai mujh se\n",
            " darīcha ho yā jo ai rañg ye mājrā kyā hai 'ajīb-tar kā naam hai aarī hai\n",
            " husn ne ik baar mire liye aa ga.e hai aaj phir kisī kī yādgārī hai\n",
            " ab tak ma.arka hai tere visāl ke hairān sā kyuuñ hai\n",
            " ye vajūd kī ḳhushbū hai abhī us kī galiyoñ meñ ab to bhārī hai\n",
            " ḳhalvat-e-nāz thā vo\n",
            "\n",
            "--------------------------------------------------\n",
            "\n",
            "Poet: Jaun Eliya\n",
            "Seed: ishq\n",
            "Generated:\n",
            "ishq guzregī hī muzhda hai ki ik tamāshā thī to kyā kareñ ham\n",
            " ḳhamoshī se bhī zindagī kī baat firāq meñ nayā na ho\n",
            " ye ḳharābātiyān-e-ḳhirad-bāḳhta kahāñ the jo apne ghar meñ kyā\n",
            " ab vo rañg kī hai us kā safar aa.ī jo adāvateñ ki umr bhar shām-ba-ḳhair shab-ba-ḳhair\n",
            " mujh ko to koī baat der se phisal haiñ tum ne ye kalām kyā ḳhuub kyoñ\n",
            " ai ku-e-yar tere zamane kya yunhi tirī āñdhiyoñ par savār the terā\n",
            " ye KHarabaatiyan-e-KHirad-baKHta kī sharm hai aaj tak ek bhī baan meñ kyā ajab nahīñ aane kā\n",
            " tū\n",
            "\n",
            "--------------------------------------------------\n",
            "\n",
            "Poet: Jaun Eliya\n",
            "Seed: mohabbat\n",
            "Generated:\n",
            "mohabbat hī muzhda hālatoñ haiñ shukriya mashvarat meñ bhī dayār-e-ahl-e-dil ik tamāshā rahī hogī\n",
            " ham ne taan kar liyā hai chādar-e-abr ek din aur hālat-e-dil ki saarā mohalla nahīñ\n",
            " umr bhar vo jo adāvateñ thā ye kyā ki asrār-e-hastī se mar ga.ī hai\n",
            " ab tak jān-e-jāñ jān-e-jāñ sub.h-o-shām-e-dil kī galiyoñ meñ ab kuchh nahīñ kahī ho jā.eñge\n",
            " ab to rañg ke ghar meñ aa ga.e the ab ai ku-e-yar tere saath huuñ maiñ\n",
            " zuleḳhā-e-azīzāñ baat tere zamane hai nafas bichhaD par bhañvar kā pīchhā kyuuñ kareñ\n",
            " ham ko apne uThe hain dil mein aabaad karunga\n",
            "\n",
            "--------------------------------------------------\n",
            "\n",
            "Poet: Hasrat Mohani\n",
            "Seed: dil\n",
            "Generated:\n",
            "dil ko parvā-e-tamannā kyā ho ga.iiñ vo un ke liye aa\n",
            " ik rañg-e-iltifāt bhī us be-ruḳhī meñ haiñ ham ne ai kaam jo ruḳh meñ tum kuchh na karte\n",
            " har samt se yādeñ rozgār-e-aish kī ab tak shauq kā shikvā ham to ḳhuub kareñ\n",
            " is qadar chāhnā sitam the ham ne kis din tirī anjuman meñ\n",
            " ham ne jafā hī sahī aañkh apnī raunaq gain aur aap dekh kar\n",
            " ham ne gar un se ḳhafā hai 'hasrat' ham ko agar ġham kyā kareñ\n",
            " ham ne gher liyā hai mai-kashoñ pe nuzūl rezish-e-abr-e-barshagāl nahīñ\n",
            " ham\n",
            "\n",
            "--------------------------------------------------\n",
            "\n",
            "Poet: Hasrat Mohani\n",
            "Seed: ishq\n",
            "Generated:\n",
            "ishq kī jo bhī kuchh nahīñ kaafī na naaz kare ham ne\n",
            " dil ko fikr-e-do-ālam se kar diyā āzād tire junūñ kā kyā karte\n",
            " har samt se milnā hai fikr ki ġhāliban kyā ho ga.iiñ agar vo bol-chāl nahīñ\n",
            " afv-e-haq meñ hai 'hasrat' ab tum bhī ḳhush huuñ maiñ ne tirī rahmat pe bharosā kiyā\n",
            " mujh ko minnateñ un ke pā-e-hinā-basta kā ḳhayāl yaad haiñ tere ġham se nikal aa.e\n",
            " ham ne jafā se nazar the vo shauq to ham ne mirā aaj mire ḳhātir-e-yār be-malāl nahīñ\n",
            " wasl mein phir ai jafākār gar dil meñ\n",
            "\n",
            "--------------------------------------------------\n",
            "\n",
            "Poet: Hasrat Mohani\n",
            "Seed: mohabbat\n",
            "Generated:\n",
            "mohabbat kī bantī haiñ musalmān hazāroñ bigḌe haiñ dil ko kyā kareñ\n",
            " kasrat-e-husn ke ham ne un se milnā hai ki baad kyā ho\n",
            " be-zabānī o be-ḳhabarī ishtiyāq tujh ko ā.eñgī ye kyā hai\n",
            " iltifāt-e-yār hai nāz-e-husn se jo farozāñ jabīn-e-yār labrez āb-e-nūr huuñ maiñ\n",
            " vo un ke ḳhilāf hai 'hasrat' kī jādū-nigāhiyāñ behosh ai bāzū-e-yār yaad hai\n",
            " nashv-o-numā-e-sabza-o-gul se bahār meñ shādābiyoñ ne duniyā-e-musībat kar liyā aur tamām shab dekh rahe haiñ\n",
            " tum bhī muñh meñ āshufta-sarī to kahte haiñ sham-e-mahfil kī taraf bhiiḌ hai parvānoñ kī\n",
            " rāz-e-ġham se kahne hain wo gardan-e-'hasrat'\n",
            "\n",
            "--------------------------------------------------\n",
            "\n",
            "Poet: Ahmad Mushtaq\n",
            "Seed: dil\n",
            "Generated:\n",
            "dil meñ vo shor na ho lahū ko sīñchtā rahtā huuñ maiñ\n",
            " ab tak hai dard kī gahrā.ī meñ ik sham.a jaltī huā jaatā hai\n",
            " pukārtī haiñ jahāñ baat kisī pe bhī kamī par kyā kahīñ ham ne mujhe purāne hotā na jaane dekhā na jā.egā\n",
            " is qadar tosan-e-taḳhayyul se vo kaun sa dayar hai wahi bechaargi hamari hai\n",
            " rishta-e-tār-e-tamannā nahīñ 'mushtāq' ye kya jagah hue ki dil mein zaKHm ghar meñ kyā rahtā hai\n",
            " pata to fasl-e-gul-o-lāla kā hai agarche dil ka taghaful jo bhi chaha to hai hamara\n",
            " jis meñ wo KHwab se\n",
            "\n",
            "--------------------------------------------------\n",
            "\n",
            "Poet: Ahmad Mushtaq\n",
            "Seed: ishq\n",
            "Generated:\n",
            "ishq kī or sā dikhā.ī detā hai ye shahr to ik sham.a jaltī huuñ maiñ\n",
            " vo barastī hai ki chashm o lab kī sāñsoñ se murjhāyā huā jaatā hai\n",
            " pukārtī haiñ jahāñ yahīñ kisī ko ab tak qadam pe dam ho ga.e haiñ\n",
            " dil fasurda to hai añdherī kā chehra rahtā hai kahīñ navāh-e-dil-e-bad-gumāñ meñ rahtī hai\n",
            " pata to fasl-e-gul-o-lāla se hai wahi bechaargi hamari hai qurb-o-javār-e-ḳhizāñ meñ\n",
            " ḳhizāñ ke zard dinoñ kī galiyoñ meñ ab bhī kamī ho kar tujh ko rasta baat ho jā.egā\n",
            " jab bhi aur soch ke na.e ulajhte the magar\n",
            "\n",
            "--------------------------------------------------\n",
            "\n",
            "Poet: Ahmad Mushtaq\n",
            "Seed: mohabbat\n",
            "Generated:\n",
            "mohabbat kā sabab samāñ sā chehra hai ki būḌhā nahīñ hotā\n",
            " vo barastī hai ki makīñ ho gayā jaatā hai hamārā\n",
            " jis kī sāñsoñ se bhī ḳhush huuñ maiñ ne kisī meñ ab bhī nahīñ miltā\n",
            " tanhā.ī meñ tāzgī umr huī dil ko chamaktī dhuup par rahtī hai to koī rasta nahīñ\n",
            " ThanDe TuuTī huī kashtiyoñ meñ karnī to hai kahīñ yaad nahīñ aatā hai ye raat hai\n",
            " dil fasurda to nahīñ 'mushtāq' nazar meñ us ke saath thī lekin is qadar bhi darwaza vaalā\n",
            " wahi TuTi se soch meñ ham to fasl-e-gul-o-lāla kā haiñ\n",
            "\n",
            "--------------------------------------------------\n",
            "\n",
            "Poet: Shakeel Badayuni\n",
            "Seed: dil\n",
            "Generated:\n",
            "dil ko be-kār kar liyā kyā karte jā.egā\n",
            " zindagī ne ai mauj-e-imbisāt vo bhī mafhūm to behtar the liye hālat-e-dil magar shaam dekh letā huuñ\n",
            " ma.āl-e-justuju-e-zauq-e-kāmil hī lagī thī tire ġham se pahle kabhī qadam pe ronā aayā\n",
            " is qadar haa.e har paañv meñ ab tak na sake jab tak un kī bāteñ karte haiñ\n",
            " ulfat ke maze hai pābandī dīdār kī gardish hai pābandī dīdār kī bāteñ karte haiñ\n",
            " bhañvre haiñ ḳhāmosh ki sab karne kā 'shakīl' ham ne ye parvāne nahīñ dekhā\n",
            " bhañvre haiñ ḳhāmosh to mad.hosh to kyā parvāne ke kahne nahin\n",
            "\n",
            "--------------------------------------------------\n",
            "\n",
            "Poet: Shakeel Badayuni\n",
            "Seed: ishq\n",
            "Generated:\n",
            "ishq kī mohabbat meñ guzrī magar is qadar thī tire anjām pe ronā aayā\n",
            " vo navā-e-muzmahil kyā hai aaj kuchh baat ki har shaam se nibāh karne kā vaqt aayā jo avaam kahāñ tak\n",
            " jab kisī kī taraf āsūda ummīdeñ hujūm-e-yās ko phir nazar par na.ī yaad aayā koī mujhe ḳhauf hai tirī tasvīr pe ronā aayā\n",
            " kabhī taqdīr kā mātam kabhī to sub.h tak ḳhatm huā silsila-e-nauhagarī ye mutālba hai mujh meñ\n",
            " ab ḳhayāl-e-ḳhauf-e-dūrī hai fuġhāñ kī sā.ateñ ne dil mein guzri mustaqil dard-o-ah mein guzri darmiyāñ kī bāteñ karte haiñ ḳhāmosh to kahīñ ehtimām na\n",
            "\n",
            "--------------------------------------------------\n",
            "\n",
            "Poet: Shakeel Badayuni\n",
            "Seed: mohabbat\n",
            "Generated:\n",
            "mohabbat kī bāteñ karte haiñ dil-e-bad-nasīb se nazar ko jī chāhtā hai\n",
            " hairat un ke irāde jo dil meñ chhupā jaatī hai\n",
            " zindagī bhī yaqīñ nahīñ jhankār ko jī chāhtā hai\n",
            " ulfat ke na.e dīvānoñ ko ab tak ishq meñ kyā hai pābandī\n",
            " bhañvre haiñ ki ġham kī baat karne kā baḌhātā hai\n",
            " ai 'shakīl' aaj bhī hai tere anjam pe ronā aayā\n",
            " mujh ko bahlata mein aankhon ka hausla hai pābandī dīdār kī bāteñ karte haiñ\n",
            " nizām-e-do-ālam se parvāne kar baiThe huuñ maiñ ye mutālba hai pābandī dīdār kī bāteñ karte haiñ\n",
            "\n",
            "--------------------------------------------------\n"
          ]
        }
      ]
    },
    {
      "cell_type": "code",
      "source": [
        "# Calculate perplexity on test dataset\n",
        "def calculate_perplexity(model, data, word2idx, device):\n",
        "    model.eval()\n",
        "    total_loss = 0\n",
        "    total_tokens = 0\n",
        "\n",
        "    # Create test dataset and dataloader\n",
        "    test_dataset = PoetryDataset(data, config['sequence_length'])\n",
        "    test_dataloader = torch.utils.data.DataLoader(\n",
        "        test_dataset,\n",
        "        batch_size=config['batch_size'],\n",
        "        shuffle=False\n",
        "    )\n",
        "\n",
        "    criterion = nn.CrossEntropyLoss(ignore_index=word2idx['<pad>'], reduction='sum')\n",
        "\n",
        "    with torch.no_grad():\n",
        "        for data, target in tqdm(test_dataloader, desc=\"Calculating perplexity\"):\n",
        "            data = data.to(device)\n",
        "            target = target.to(device)\n",
        "\n",
        "            output, _ = model(data)\n",
        "            output = output.view(-1, output.size(-1))\n",
        "            target = target.view(-1)\n",
        "\n",
        "            # Calculate loss\n",
        "            loss = criterion(output, target)\n",
        "\n",
        "            # Count non-padding tokens\n",
        "            non_pad_mask = target.ne(word2idx['<pad>'])\n",
        "            num_tokens = non_pad_mask.long().sum().item()\n",
        "\n",
        "            total_loss += loss.item()\n",
        "            total_tokens += num_tokens\n",
        "\n",
        "    # Calculate perplexity\n",
        "    avg_loss = total_loss / total_tokens\n",
        "    perplexity = np.exp(avg_loss)\n",
        "\n",
        "    return perplexity\n",
        "\n",
        "# Calculate and print perplexity on test dataset\n",
        "print(\"\\nCalculating perplexity on test dataset...\")\n",
        "perplexity = calculate_perplexity(model, test_data, word2idx, config['device'])\n",
        "print(f\"Test Perplexity: {perplexity:.2f}\")"
      ],
      "metadata": {
        "colab": {
          "base_uri": "https://localhost:8080/"
        },
        "id": "_rbD02birjjU",
        "outputId": "c2a9744f-bd93-4e50-d4c2-9e19dfc59a38"
      },
      "execution_count": 66,
      "outputs": [
        {
          "output_type": "stream",
          "name": "stdout",
          "text": [
            "\n",
            "Calculating perplexity on test dataset...\n"
          ]
        },
        {
          "output_type": "stream",
          "name": "stderr",
          "text": [
            "Calculating perplexity: 100%|██████████| 3/3 [00:00<00:00, 39.69it/s]"
          ]
        },
        {
          "output_type": "stream",
          "name": "stdout",
          "text": [
            "Test Perplexity: 44.93\n"
          ]
        },
        {
          "output_type": "stream",
          "name": "stderr",
          "text": [
            "\n"
          ]
        }
      ]
    }
  ]
}